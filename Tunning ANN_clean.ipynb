{
 "cells": [
  {
   "cell_type": "code",
   "execution_count": 2,
   "metadata": {},
   "outputs": [
    {
     "name": "stderr",
     "output_type": "stream",
     "text": [
      "Using TensorFlow backend.\n"
     ]
    }
   ],
   "source": [
    "import  numpy  as  np\n",
    "import matplotlib.pyplot as plt\n",
    "import pandas as pd\n",
    "from sklearn.model_selection import train_test_split, GridSearchCV\n",
    "from sklearn.preprocessing import LabelEncoder, OneHotEncoder, StandardScaler\n",
    "from keras.models import Sequential\n",
    "from keras.layers import Dense,Dropout\n",
    "from keras.wrappers.scikit_learn import KerasClassifier"
   ]
  },
  {
   "cell_type": "code",
   "execution_count": 3,
   "metadata": {},
   "outputs": [],
   "source": [
    "dataset=pd.read_csv('Churn_Modelling.csv')\n",
    "x=dataset.iloc[:,3:13].values\n",
    "y=dataset.iloc[:,-1].values\n",
    "x[:,1]=LabelEncoder().fit_transform(x[:,1])\n",
    "x[:,2]=LabelEncoder().fit_transform(x[:,2])\n",
    "x=OneHotEncoder(categorical_features=[1]).fit_transform(x).toarray()\n",
    "x=x[:,1:]\n",
    "\n",
    "x_train,x_test,y_train,y_test=train_test_split(x,y,test_size=0.2,random_state=0)\n",
    "\n",
    "sc=StandardScaler()\n",
    "x_train=sc.fit_transform(x_train)\n",
    "x_test=sc.transform(x_test)\n"
   ]
  },
  {
   "cell_type": "code",
   "execution_count": null,
   "metadata": {},
   "outputs": [],
   "source": [
    "def build_classifier(optimizer): \n",
    "    classifier=Sequential() \n",
    "    classifier.add(Dense(output_dim=6,kernel_initializer='uniform',activation='relu', input_dim=11))\n",
    "    classifier.add(Dense(output_dim=6, kernel_initializer='uniform', activation='relu'))\n",
    "    classifier.add(Dense(output_dim=1,kernel_initializer='uniform',activation='sigmoid'))\n",
    "    classifier.compile(optimizer= optimizer, loss='binary_crossentropy',metrics=['accuracy'])\n",
    "    return classifier\n",
    "\n",
    "parameters={'batch_size':[25,32],\n",
    "            'epochs':[100,500],\n",
    "            'optimizer':['adam','rmsprop']}\n",
    "\n",
    "grid_search=GridSearchCV(estimator=classifier,param_grid=parameters,scoring='accuracy', cv=10)\n",
    "grid_search= grid_search.fit(x_train,y_train)\n",
    "best_parameters= grid_search.best_params_\n",
    "best_accuracy= grid_search.best_score_"
   ]
  },
  {
   "cell_type": "code",
   "execution_count": null,
   "metadata": {},
   "outputs": [],
   "source": [
    "print(best_parameters)\n",
    "print(best_accuracy)"
   ]
  }
 ],
 "metadata": {
  "kernelspec": {
   "display_name": "Python 3",
   "language": "python",
   "name": "python3"
  },
  "language_info": {
   "codemirror_mode": {
    "name": "ipython",
    "version": 3
   },
   "file_extension": ".py",
   "mimetype": "text/x-python",
   "name": "python",
   "nbconvert_exporter": "python",
   "pygments_lexer": "ipython3",
   "version": "3.5.5"
  }
 },
 "nbformat": 4,
 "nbformat_minor": 2
}
