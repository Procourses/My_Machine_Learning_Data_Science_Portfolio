{
 "cells": [
  {
   "cell_type": "code",
   "execution_count": 2,
   "metadata": {},
   "outputs": [],
   "source": [
    "import time\n",
    "start=time.time()"
   ]
  },
  {
   "cell_type": "code",
   "execution_count": 1,
   "metadata": {},
   "outputs": [],
   "source": [
    "import os\n",
    "base_dir=('E:/Projects/Kaggle/Cat_dog_classifier')\n",
    "train_dir=os.path.join(base_dir,'train')\n",
    "val_dir=os.path.join(base_dir,'validation')\n",
    "test_dir=os.path.join(base_dir,'test')\n",
    "train_cat_dir=os.path.join(train_dir,'cats')"
   ]
  },
  {
   "cell_type": "code",
   "execution_count": 5,
   "metadata": {},
   "outputs": [
    {
     "name": "stderr",
     "output_type": "stream",
     "text": [
      "Using TensorFlow backend.\n"
     ]
    },
    {
     "name": "stdout",
     "output_type": "stream",
     "text": [
      "Found 4000 images belonging to 2 classes.\n",
      "Found 1000 images belonging to 2 classes.\n",
      "Found 1000 images belonging to 2 classes.\n"
     ]
    }
   ],
   "source": [
    "from keras.preprocessing.image import ImageDataGenerator\n",
    "train_transform=ImageDataGenerator(rescale=1./255, rotation_range=40,width_shift_range=0.2,\n",
    "                                  height_shift_range=0.2,shear_range=0.2,zoom_range=0.2,horizontal_flip=True,\n",
    "                                  fill_mode='nearest')\n",
    "\n",
    "test_transform=ImageDataGenerator(rescale=1./255)\n",
    "\n",
    "train_loader=train_transform.flow_from_directory(train_dir, target_size=(150,150),batch_size=64,\n",
    "                                                class_mode='binary',color_mode='rgb')\n",
    "#will convert into 150,150 \n",
    "#apply to the img of the whole train_dir folder\n",
    "\n",
    "validation_loader=test_transform.flow_from_directory(val_dir,target_size=(150,150),batch_size=64,\n",
    "                                                class_mode='binary',color_mode='rgb')\n",
    "\n",
    "test_loader=test_transform.flow_from_directory(test_dir,target_size=(150,150),batch_size=64,\n",
    "                                                class_mode='binary',color_mode='rgb')"
   ]
  },
  {
   "cell_type": "code",
   "execution_count": 6,
   "metadata": {},
   "outputs": [
    {
     "name": "stdout",
     "output_type": "stream",
     "text": [
      "WARNING:tensorflow:From H:\\Anaconda3\\envs\\main\\lib\\site-packages\\tensorflow\\python\\framework\\op_def_library.py:263: colocate_with (from tensorflow.python.framework.ops) is deprecated and will be removed in a future version.\n",
      "Instructions for updating:\n",
      "Colocations handled automatically by placer.\n",
      "WARNING:tensorflow:From H:\\Anaconda3\\envs\\main\\lib\\site-packages\\keras\\backend\\tensorflow_backend.py:3445: calling dropout (from tensorflow.python.ops.nn_ops) with keep_prob is deprecated and will be removed in a future version.\n",
      "Instructions for updating:\n",
      "Please use `rate` instead of `keep_prob`. Rate should be set to `rate = 1 - keep_prob`.\n"
     ]
    }
   ],
   "source": [
    "#Build the model\n",
    "from keras import layers\n",
    "from keras import models\n",
    "from keras.layers import Dense, MaxPooling2D, Conv2D, Flatten, Dropout\n",
    "\n",
    "model=models.Sequential()\n",
    "model.add(Conv2D(32,(3,3),activation='relu',input_shape=(150,150,3)))\n",
    "model.add(MaxPooling2D((2,2)))\n",
    "model.add(Conv2D(64,(3,3),activation='relu'))\n",
    "model.add(MaxPooling2D((2,2)))\n",
    "model.add(Conv2D(128,(3,3),activation='relu'))\n",
    "model.add(MaxPooling2D((2,2)))\n",
    "model.add(Conv2D(128,(3,3),activation='relu'))\n",
    "model.add(MaxPooling2D((2,2)))\n",
    "model.add(Flatten())\n",
    "model.add(Dropout(0.2))\n",
    "model.add(Dense(512,activation='relu'))\n",
    "model.add(Dense(1,activation='sigmoid'))"
   ]
  },
  {
   "cell_type": "code",
   "execution_count": 7,
   "metadata": {},
   "outputs": [],
   "source": [
    "from keras import optimizers\n",
    "model.compile(loss='binary_crossentropy',optimizer=optimizers.Adam(lr=1e-4),\n",
    "             metrics=['acc'])"
   ]
  },
  {
   "cell_type": "code",
   "execution_count": 8,
   "metadata": {},
   "outputs": [
    {
     "name": "stdout",
     "output_type": "stream",
     "text": [
      "WARNING:tensorflow:From H:\\Anaconda3\\envs\\main\\lib\\site-packages\\tensorflow\\python\\ops\\math_ops.py:3066: to_int32 (from tensorflow.python.ops.math_ops) is deprecated and will be removed in a future version.\n",
      "Instructions for updating:\n",
      "Use tf.cast instead.\n",
      "Epoch 1/15\n",
      "63/63 [==============================] - 27s 433ms/step - loss: 0.6934 - acc: 0.5062 - val_loss: 0.6896 - val_acc: 0.5140\n",
      "Epoch 2/15\n",
      "63/63 [==============================] - 26s 413ms/step - loss: 0.6795 - acc: 0.5518 - val_loss: 0.6516 - val_acc: 0.6220\n",
      "Epoch 3/15\n",
      "63/63 [==============================] - 26s 413ms/step - loss: 0.6623 - acc: 0.6019 - val_loss: 0.6148 - val_acc: 0.6730\n",
      "Epoch 4/15\n",
      "63/63 [==============================] - 26s 414ms/step - loss: 0.6386 - acc: 0.6262 - val_loss: 0.5883 - val_acc: 0.6950\n",
      "Epoch 5/15\n",
      "63/63 [==============================] - 26s 415ms/step - loss: 0.6236 - acc: 0.6493 - val_loss: 0.5705 - val_acc: 0.7000\n",
      "Epoch 6/15\n",
      "63/63 [==============================] - 26s 412ms/step - loss: 0.6115 - acc: 0.6604 - val_loss: 0.5635 - val_acc: 0.7160\n",
      "Epoch 7/15\n",
      "63/63 [==============================] - 26s 414ms/step - loss: 0.5982 - acc: 0.6771 - val_loss: 0.5913 - val_acc: 0.6670\n",
      "Epoch 8/15\n",
      "63/63 [==============================] - 26s 413ms/step - loss: 0.5981 - acc: 0.6791 - val_loss: 0.5394 - val_acc: 0.7340\n",
      "Epoch 9/15\n",
      "63/63 [==============================] - 26s 414ms/step - loss: 0.5837 - acc: 0.6937 - val_loss: 0.5314 - val_acc: 0.7240\n",
      "Epoch 10/15\n",
      "63/63 [==============================] - 26s 417ms/step - loss: 0.5754 - acc: 0.7001 - val_loss: 0.5193 - val_acc: 0.7260\n",
      "Epoch 11/15\n",
      "63/63 [==============================] - 26s 411ms/step - loss: 0.5587 - acc: 0.7145 - val_loss: 0.5158 - val_acc: 0.7480\n",
      "Epoch 12/15\n",
      "63/63 [==============================] - 26s 411ms/step - loss: 0.5653 - acc: 0.7074 - val_loss: 0.5191 - val_acc: 0.7230\n",
      "Epoch 13/15\n",
      "63/63 [==============================] - 26s 413ms/step - loss: 0.5589 - acc: 0.7148 - val_loss: 0.5062 - val_acc: 0.7380\n",
      "Epoch 14/15\n",
      "63/63 [==============================] - 26s 410ms/step - loss: 0.5514 - acc: 0.7138 - val_loss: 0.5233 - val_acc: 0.7300\n",
      "Epoch 15/15\n",
      "63/63 [==============================] - 26s 413ms/step - loss: 0.5347 - acc: 0.7317 - val_loss: 0.4883 - val_acc: 0.7470\n"
     ]
    }
   ],
   "source": [
    "classifier=model.fit_generator(train_loader,\n",
    "                           steps_per_epoch=63,epochs=15,\n",
    "                           validation_data=validation_loader,\n",
    "                            validation_steps=16)"
   ]
  },
  {
   "cell_type": "code",
   "execution_count": 9,
   "metadata": {},
   "outputs": [
    {
     "name": "stdout",
     "output_type": "stream",
     "text": [
      "The training took 395.2384674549103 second\n"
     ]
    }
   ],
   "source": [
    "model.save('cats_and_dogs_classifier_v1.h5')\n",
    "\n",
    "end=time.time()\n",
    "print('The training took {} second'.format(end-start))"
   ]
  },
  {
   "cell_type": "code",
   "execution_count": 18,
   "metadata": {},
   "outputs": [
    {
     "data": {
      "image/png": "[encoded data removed]",
      "text/plain": [
       "<Figure size 432x288 with 1 Axes>"
      ]
     },
     "metadata": {
      "needs_background": "light"
     },
     "output_type": "display_data"
    },
    {
     "data": {
      "image/png": "[encoded data removed]",
      "text/plain": [
       "<Figure size 432x288 with 1 Axes>"
      ]
     },
     "metadata": {
      "needs_background": "light"
     },
     "output_type": "display_data"
    }
   ],
   "source": [
    "import matplotlib.pyplot as plt\n",
    "\n",
    "acc=classifier.history['acc']\n",
    "val_acc=classifier.history['val_acc']\n",
    "loss=classifier.history['loss']\n",
    "val_loss=classifier.history['val_loss']\n",
    "\n",
    "epochs=range(1,len(acc)+1)\n",
    "plt.plot(epochs,acc,'r',label='Training acc')\n",
    "plt.plot(epochs,val_acc,'b',label='Validation acc')\n",
    "plt.title('Training and validation accuracy')\n",
    "plt.legend()\n",
    "plt.figure()\n",
    "\n",
    "plt.plot(epochs,loss,'r',label='Training loss')\n",
    "plt.plot(epochs,val_loss,'b',label='Validation loss')\n",
    "plt.title('Training and validation loss')\n",
    "plt.legend()\n",
    "plt.show()"
   ]
  },
  {
   "cell_type": "code",
   "execution_count": 11,
   "metadata": {},
   "outputs": [
    {
     "name": "stdout",
     "output_type": "stream",
     "text": [
      "test loss: 0.5185572064441183\n",
      "test acc: 0.7362531972358294\n"
     ]
    }
   ],
   "source": [
    "test_loss,test_acc=model.evaluate_generator(test_loader,steps=50)\n",
    "print('test loss:', test_loss)\n",
    "print('test acc:', test_acc)"
   ]
  },
  {
   "cell_type": "code",
   "execution_count": 12,
   "metadata": {},
   "outputs": [],
   "source": [
    "from keras.preprocessing import image\n",
    "img_path=('E:/Projects/Kaggle/Cat_dog_classifier/test/dogs/dog.2512.jpg')\n",
    "img=image.load_img(img_path,target_size=(150,150))\n",
    "#here img is just an img object\n",
    "\n",
    "x=image.img_to_array(img)\n",
    "x=x.reshape((1,)+x.shape)"
   ]
  },
  {
   "cell_type": "code",
   "execution_count": 32,
   "metadata": {},
   "outputs": [
    {
     "name": "stdout",
     "output_type": "stream",
     "text": [
      "{'cats': 0, 'dogs': 1}\n"
     ]
    }
   ],
   "source": [
    "label_map = (train_loader.class_indices)\n",
    "print(label_map)"
   ]
  },
  {
   "cell_type": "code",
   "execution_count": 31,
   "metadata": {},
   "outputs": [
    {
     "name": "stdout",
     "output_type": "stream",
     "text": [
      "{0: 'cats', 1: 'dogs'}\n"
     ]
    }
   ],
   "source": [
    "mapping={}\n",
    "for i,j in label_map.items():\n",
    "    mapping[j]=i\n",
    "    \n",
    "print(mapping)"
   ]
  },
  {
   "cell_type": "code",
   "execution_count": 14,
   "metadata": {},
   "outputs": [
    {
     "name": "stdout",
     "output_type": "stream",
     "text": [
      "ypred is [[1.]] have shape (1, 1) <class 'numpy.ndarray'>\n",
      "The pet is a dogs\n",
      "The pet is a dogs\n"
     ]
    }
   ],
   "source": [
    "ypred=model.predict(x)\n",
    "print('ypred is',ypred,'have shape',ypred.shape,type(ypred))\n",
    "\n",
    "import numpy as np\n",
    "ypred_scalar= np.asscalar(ypred)\n",
    "\n",
    "print('The pet is a {}'.format(mapping[ypred_scalar]))\n",
    "\n",
    "#OR \n",
    "\n",
    "scalar=ypred.item()\n",
    "print('The pet is a {}'.format(mapping[scalar]))\n",
    "#numpy.ndarray.item() return Copy an element of an array to a standard Python scalar and return it."
   ]
  }
 ],
 "metadata": {
  "kernelspec": {
   "display_name": "Python 3",
   "language": "python",
   "name": "python3"
  },
  "language_info": {
   "codemirror_mode": {
    "name": "ipython",
    "version": 3
   },
   "file_extension": ".py",
   "mimetype": "text/x-python",
   "name": "python",
   "nbconvert_exporter": "python",
   "pygments_lexer": "ipython3",
   "version": "3.6.8"
  }
 },
 "nbformat": 4,
 "nbformat_minor": 2
}
